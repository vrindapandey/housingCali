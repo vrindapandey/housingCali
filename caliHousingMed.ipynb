{
 "cells": [
  {
   "cell_type": "code",
   "execution_count": 1,
   "metadata": {
    "id": "_nsCM1024kL4"
   },
   "outputs": [
    {
     "name": "stderr",
     "output_type": "stream",
     "text": [
      "/tmp/ipykernel_73/1020607637.py:1: DeprecationWarning: \n",
      "Pyarrow will become a required dependency of pandas in the next major release of pandas (pandas 3.0),\n",
      "(to allow more performant data types, such as the Arrow string type, and better interoperability with other libraries)\n",
      "but was not found to be installed on your system.\n",
      "If this would cause problems for you,\n",
      "please provide us feedback at https://github.com/pandas-dev/pandas/issues/54466\n",
      "        \n",
      "  import pandas as pd\n"
     ]
    }
   ],
   "source": [
    "import pandas as pd\n",
    "import numpy as np\n",
    "import seaborn as sns\n",
    "import matplotlib.pyplot as plt"
   ]
  },
  {
   "cell_type": "markdown",
   "metadata": {
    "id": "MBaC5epi8JGU"
   },
   "source": [
    "Part 1"
   ]
  },
  {
   "cell_type": "code",
   "execution_count": 2,
   "metadata": {
    "colab": {
     "base_uri": "https://localhost:8080/"
    },
    "id": "hVzWu2Ye4qwG",
    "outputId": "57077515-3807-4307-8944-23a9b72b010f"
   },
   "outputs": [
    {
     "name": "stdout",
     "output_type": "stream",
     "text": [
      "       MedInc  HouseAge  AveRooms  AveBedrms  Population  AveOccup  Latitude  \\\n",
      "0      2.1827      26.0  4.521429   0.921429       305.0  2.178571     40.05   \n",
      "1      3.0755      32.0  4.623068   0.983353      3868.0  4.599287     32.77   \n",
      "2      1.8235      40.0  4.701149   1.126437       928.0  3.555556     37.75   \n",
      "3      1.4625      37.0  4.247845   1.105603      1673.0  3.605603     33.99   \n",
      "4      1.9063      13.0  3.453125   0.984375       286.0  4.468750     33.97   \n",
      "...       ...       ...       ...        ...         ...       ...       ...   \n",
      "20629  4.3487      29.0  5.930712   1.026217      1554.0  2.910112     38.65   \n",
      "20630  5.6790      20.0  6.401274   1.070064       457.0  2.910828     38.56   \n",
      "20631  1.9327      10.0  5.789474   1.078947       898.0  3.938596     38.57   \n",
      "20632  3.7500      38.0  5.275229   0.981651       259.0  2.376147     38.72   \n",
      "20633  2.8542      37.0  5.253731   0.970149       238.0  3.552239     38.84   \n",
      "\n",
      "       Longitude  price_above_median  \n",
      "0        -122.10                   0  \n",
      "1        -117.06                   0  \n",
      "2        -122.16                   0  \n",
      "3        -118.28                   0  \n",
      "4        -118.16                   0  \n",
      "...          ...                 ...  \n",
      "20629    -121.84                   1  \n",
      "20630    -122.05                   1  \n",
      "20631    -121.92                   1  \n",
      "20632    -121.90                   1  \n",
      "20633    -121.81                   1  \n",
      "\n",
      "[20634 rows x 9 columns]\n"
     ]
    }
   ],
   "source": [
    "data = pd.read_csv('housingData.txt', delimiter=\",\")\n",
    "print(data)\n",
    "#20634 entries (households) of 9 properties"
   ]
  },
  {
   "cell_type": "code",
   "execution_count": 3,
   "metadata": {
    "colab": {
     "base_uri": "https://localhost:8080/"
    },
    "id": "r6TXl9I94q6v",
    "outputId": "eeb6291f-a2ec-4d81-c636-bb9fb8b03314"
   },
   "outputs": [
    {
     "name": "stdout",
     "output_type": "stream",
     "text": [
      "MedInc                float64\n",
      "HouseAge              float64\n",
      "AveRooms              float64\n",
      "AveBedrms             float64\n",
      "Population            float64\n",
      "AveOccup              float64\n",
      "Latitude              float64\n",
      "Longitude             float64\n",
      "price_above_median      int64\n",
      "dtype: object\n",
      "Empty DataFrame\n",
      "Columns: [MedInc, HouseAge, AveRooms, AveBedrms, Population, AveOccup, Latitude, Longitude, price_above_median]\n",
      "Index: []\n"
     ]
    }
   ],
   "source": [
    "print(data.dtypes)\n",
    "# 8/9 variables are floats and one int\n",
    "\n",
    "anyduplicates = data[data.duplicated()]\n",
    "print(anyduplicates)\n",
    "data = data.drop_duplicates()\n",
    "#duplicates were present (anyduplicates) and treated in the original dataframe data"
   ]
  },
  {
   "cell_type": "code",
   "execution_count": 4,
   "metadata": {
    "colab": {
     "base_uri": "https://localhost:8080/",
     "height": 823
    },
    "id": "4ecChObj4rAi",
    "outputId": "5fc9de4d-f171-4107-b22f-1a349191dc84"
   },
   "outputs": [
    {
     "name": "stdout",
     "output_type": "stream",
     "text": [
      "<class 'pandas.core.frame.DataFrame'>\n",
      "RangeIndex: 20634 entries, 0 to 20633\n",
      "Data columns (total 9 columns):\n",
      " #   Column              Non-Null Count  Dtype  \n",
      "---  ------              --------------  -----  \n",
      " 0   MedInc              20634 non-null  float64\n",
      " 1   HouseAge            20634 non-null  float64\n",
      " 2   AveRooms            20634 non-null  float64\n",
      " 3   AveBedrms           20634 non-null  float64\n",
      " 4   Population          20634 non-null  float64\n",
      " 5   AveOccup            20634 non-null  float64\n",
      " 6   Latitude            20634 non-null  float64\n",
      " 7   Longitude           20634 non-null  float64\n",
      " 8   price_above_median  20634 non-null  int64  \n",
      "dtypes: float64(8), int64(1)\n",
      "memory usage: 1.4 MB\n",
      "MedInc                0\n",
      "HouseAge              0\n",
      "AveRooms              0\n",
      "AveBedrms             0\n",
      "Population            0\n",
      "AveOccup              0\n",
      "Latitude              0\n",
      "Longitude             0\n",
      "price_above_median    0\n",
      "dtype: int64\n",
      "Empty DataFrame\n",
      "Columns: [MedInc, HouseAge, AveRooms, AveBedrms, Population, AveOccup, Latitude, Longitude, price_above_median]\n",
      "Index: []\n"
     ]
    },
    {
     "data": {
      "text/html": [
       "<div>\n",
       "<style scoped>\n",
       "    .dataframe tbody tr th:only-of-type {\n",
       "        vertical-align: middle;\n",
       "    }\n",
       "\n",
       "    .dataframe tbody tr th {\n",
       "        vertical-align: top;\n",
       "    }\n",
       "\n",
       "    .dataframe thead th {\n",
       "        text-align: right;\n",
       "    }\n",
       "</style>\n",
       "<table border=\"1\" class=\"dataframe\">\n",
       "  <thead>\n",
       "    <tr style=\"text-align: right;\">\n",
       "      <th></th>\n",
       "      <th>MedInc</th>\n",
       "      <th>HouseAge</th>\n",
       "      <th>AveRooms</th>\n",
       "      <th>AveBedrms</th>\n",
       "      <th>Population</th>\n",
       "      <th>AveOccup</th>\n",
       "      <th>Latitude</th>\n",
       "      <th>Longitude</th>\n",
       "      <th>price_above_median</th>\n",
       "    </tr>\n",
       "  </thead>\n",
       "  <tbody>\n",
       "    <tr>\n",
       "      <th>count</th>\n",
       "      <td>20634.000000</td>\n",
       "      <td>20634.000000</td>\n",
       "      <td>20634.000000</td>\n",
       "      <td>20634.000000</td>\n",
       "      <td>20634.000000</td>\n",
       "      <td>20634.000000</td>\n",
       "      <td>20634.000000</td>\n",
       "      <td>20634.000000</td>\n",
       "      <td>20634.000000</td>\n",
       "    </tr>\n",
       "    <tr>\n",
       "      <th>mean</th>\n",
       "      <td>3.870795</td>\n",
       "      <td>28.640399</td>\n",
       "      <td>5.429171</td>\n",
       "      <td>1.096628</td>\n",
       "      <td>1425.398081</td>\n",
       "      <td>3.070449</td>\n",
       "      <td>35.631722</td>\n",
       "      <td>-119.569594</td>\n",
       "      <td>0.500000</td>\n",
       "    </tr>\n",
       "    <tr>\n",
       "      <th>std</th>\n",
       "      <td>1.899796</td>\n",
       "      <td>12.584629</td>\n",
       "      <td>2.474393</td>\n",
       "      <td>0.473929</td>\n",
       "      <td>1132.137403</td>\n",
       "      <td>10.387501</td>\n",
       "      <td>2.135738</td>\n",
       "      <td>2.003457</td>\n",
       "      <td>0.500012</td>\n",
       "    </tr>\n",
       "    <tr>\n",
       "      <th>min</th>\n",
       "      <td>0.499900</td>\n",
       "      <td>1.000000</td>\n",
       "      <td>0.846154</td>\n",
       "      <td>0.333333</td>\n",
       "      <td>3.000000</td>\n",
       "      <td>0.692308</td>\n",
       "      <td>32.540000</td>\n",
       "      <td>-124.350000</td>\n",
       "      <td>0.000000</td>\n",
       "    </tr>\n",
       "    <tr>\n",
       "      <th>25%</th>\n",
       "      <td>2.563925</td>\n",
       "      <td>18.000000</td>\n",
       "      <td>4.440930</td>\n",
       "      <td>1.006067</td>\n",
       "      <td>787.000000</td>\n",
       "      <td>2.429649</td>\n",
       "      <td>33.930000</td>\n",
       "      <td>-121.800000</td>\n",
       "      <td>0.000000</td>\n",
       "    </tr>\n",
       "    <tr>\n",
       "      <th>50%</th>\n",
       "      <td>3.534950</td>\n",
       "      <td>29.000000</td>\n",
       "      <td>5.229190</td>\n",
       "      <td>1.048780</td>\n",
       "      <td>1166.000000</td>\n",
       "      <td>2.817937</td>\n",
       "      <td>34.260000</td>\n",
       "      <td>-118.490000</td>\n",
       "      <td>0.500000</td>\n",
       "    </tr>\n",
       "    <tr>\n",
       "      <th>75%</th>\n",
       "      <td>4.743550</td>\n",
       "      <td>37.000000</td>\n",
       "      <td>6.052381</td>\n",
       "      <td>1.099499</td>\n",
       "      <td>1725.000000</td>\n",
       "      <td>3.282249</td>\n",
       "      <td>37.710000</td>\n",
       "      <td>-118.010000</td>\n",
       "      <td>1.000000</td>\n",
       "    </tr>\n",
       "    <tr>\n",
       "      <th>max</th>\n",
       "      <td>15.000100</td>\n",
       "      <td>52.000000</td>\n",
       "      <td>141.909091</td>\n",
       "      <td>34.066667</td>\n",
       "      <td>35682.000000</td>\n",
       "      <td>1243.333333</td>\n",
       "      <td>41.950000</td>\n",
       "      <td>-114.310000</td>\n",
       "      <td>1.000000</td>\n",
       "    </tr>\n",
       "  </tbody>\n",
       "</table>\n",
       "</div>"
      ],
      "text/plain": [
       "             MedInc      HouseAge      AveRooms     AveBedrms    Population  \\\n",
       "count  20634.000000  20634.000000  20634.000000  20634.000000  20634.000000   \n",
       "mean       3.870795     28.640399      5.429171      1.096628   1425.398081   \n",
       "std        1.899796     12.584629      2.474393      0.473929   1132.137403   \n",
       "min        0.499900      1.000000      0.846154      0.333333      3.000000   \n",
       "25%        2.563925     18.000000      4.440930      1.006067    787.000000   \n",
       "50%        3.534950     29.000000      5.229190      1.048780   1166.000000   \n",
       "75%        4.743550     37.000000      6.052381      1.099499   1725.000000   \n",
       "max       15.000100     52.000000    141.909091     34.066667  35682.000000   \n",
       "\n",
       "           AveOccup      Latitude     Longitude  price_above_median  \n",
       "count  20634.000000  20634.000000  20634.000000        20634.000000  \n",
       "mean       3.070449     35.631722   -119.569594            0.500000  \n",
       "std       10.387501      2.135738      2.003457            0.500012  \n",
       "min        0.692308     32.540000   -124.350000            0.000000  \n",
       "25%        2.429649     33.930000   -121.800000            0.000000  \n",
       "50%        2.817937     34.260000   -118.490000            0.500000  \n",
       "75%        3.282249     37.710000   -118.010000            1.000000  \n",
       "max     1243.333333     41.950000   -114.310000            1.000000  "
      ]
     },
     "execution_count": 4,
     "metadata": {},
     "output_type": "execute_result"
    }
   ],
   "source": [
    "data.info() # two columns with only 385/386\n",
    "print(data.isna().sum()) # seen more clearly here\n",
    "missing_rows = data[data.isna().any(axis=1)]\n",
    "print(missing_rows) #see specific observations entirely\n",
    "data.describe()"
   ]
  },
  {
   "cell_type": "code",
   "execution_count": 5,
   "metadata": {
    "colab": {
     "base_uri": "https://localhost:8080/"
    },
    "id": "gzkNejNk84DY",
    "outputId": "6df0684c-9f06-4216-e583-13db17dca8ea"
   },
   "outputs": [
    {
     "name": "stdout",
     "output_type": "stream",
     "text": [
      "Index(['MedInc', 'HouseAge', 'AveRooms', 'AveBedrms', 'Population', 'AveOccup',\n",
      "       'Latitude', 'Longitude', 'price_above_median'],\n",
      "      dtype='object')\n"
     ]
    }
   ],
   "source": [
    "print(data.columns)"
   ]
  },
  {
   "cell_type": "code",
   "execution_count": 6,
   "metadata": {
    "colab": {
     "base_uri": "https://localhost:8080/",
     "height": 524
    },
    "id": "UQXdQXFD4rDg",
    "outputId": "b8d97f1e-615e-43bf-d945-ff41a4c9fa56"
   },
   "outputs": [
    {
     "data": {
      "image/png": "[encoded data removed]",
      "text/plain": [
       "<Figure size 800x500 with 1 Axes>"
      ]
     },
     "metadata": {},
     "output_type": "display_data"
    }
   ],
   "source": [
    "# Create bins\n",
    "data['IncomeBrackets'] = pd.cut(data['MedInc'], bins=10)  # 5 bins of equal width\n",
    "\n",
    "plt.figure(figsize=(8,5))\n",
    "sns.countplot(x=data['IncomeBrackets'])\n",
    "plt.xticks(rotation=45)  # Rotate x-labels if needed\n",
    "plt.show()\n",
    "\n",
    "#unimodal skewed right\n",
    "\n",
    "#sns.countplot(data=data['MedInc'])"
   ]
  },
  {
   "cell_type": "code",
   "execution_count": 7,
   "metadata": {
    "colab": {
     "base_uri": "https://localhost:8080/",
     "height": 467
    },
    "id": "Dg3DSsde4rHM",
    "outputId": "984a74be-8977-4cff-a672-739e495ba3cf"
   },
   "outputs": [
    {
     "data": {
      "text/plain": [
       "<Axes: xlabel='price_above_median', ylabel='Count'>"
      ]
     },
     "execution_count": 7,
     "metadata": {},
     "output_type": "execute_result"
    },
    {
     "data": {
      "image/png": "[encoded data removed]",
      "text/plain": [
       "<Figure size 640x480 with 1 Axes>"
      ]
     },
     "metadata": {},
     "output_type": "display_data"
    }
   ],
   "source": [
    "sns.histplot(data=data['price_above_median'], kde=True)"
   ]
  },
  {
   "cell_type": "code",
   "execution_count": 8,
   "metadata": {
    "colab": {
     "base_uri": "https://localhost:8080/",
     "height": 466
    },
    "id": "5xx1i26t9MN7",
    "outputId": "c600e0bd-0ddd-45da-a89c-0dba97baca13"
   },
   "outputs": [
    {
     "data": {
      "text/plain": [
       "<Axes: xlabel='AveRooms'>"
      ]
     },
     "execution_count": 8,
     "metadata": {},
     "output_type": "execute_result"
    },
    {
     "data": {
      "image/png": "[encoded data removed]",
      "text/plain": [
       "<Figure size 640x480 with 1 Axes>"
      ]
     },
     "metadata": {},
     "output_type": "display_data"
    }
   ],
   "source": [
    "sns.boxplot(data=data, x='AveRooms')"
   ]
  },
  {
   "cell_type": "code",
   "execution_count": 9,
   "metadata": {
    "colab": {
     "base_uri": "https://localhost:8080/",
     "height": 373
    },
    "id": "Q9AR_m5S9V2j",
    "outputId": "2d0a58c6-dd86-45e1-b6d2-0386c45d0af8"
   },
   "outputs": [],
   "source": [
    "#plt.figure(figsize=(25, 10))\n",
    "#sns.heatmap(\n",
    "  # data.corr(), annot=True, vmin=-1, vmax=1, fmt=\".2f\", cmap=\"Spectral\")\n",
    "#plt.show()"
   ]
  },
  {
   "cell_type": "markdown",
   "metadata": {
    "id": "gOqmMM0M8MRG"
   },
   "source": [
    "Part 2\n",
    "\n",
    "K-nearnest neighbor\n",
    "\n",
    "Decision Tree Classifier\n",
    "\n",
    "Random Forest Classifier\n",
    "\n",
    "AdaBoost Classifier"
   ]
  },
  {
   "cell_type": "code",
   "execution_count": 10,
   "metadata": {
    "id": "wbBZgkoX8VZp"
   },
   "outputs": [],
   "source": [
    "import sklearn\n",
    "\n",
    "from sklearn.model_selection import train_test_split\n",
    "from sklearn.neighbors import KNeighborsClassifier\n",
    "\n",
    "from sklearn.metrics import accuracy_score\n",
    "from sklearn.metrics import recall_score, precision_score, f1_score\n",
    "\n",
    "#from sklearn.model_selection import GridSearchCV\n",
    "from sklearn.datasets import load_iris\n",
    "\n",
    "#from sklearn.linear_model import SGDClassifier"
   ]
  },
  {
   "cell_type": "code",
   "execution_count": 11,
   "metadata": {
    "colab": {
     "base_uri": "https://localhost:8080/"
    },
    "id": "DFxBoZGqC7K9",
    "outputId": "3593940c-38d7-4d1c-fd77-97af33226594"
   },
   "outputs": [
    {
     "name": "stdout",
     "output_type": "stream",
     "text": [
      "Index(['MedInc', 'HouseAge', 'AveRooms', 'AveBedrms', 'Population', 'AveOccup',\n",
      "       'Latitude', 'Longitude', 'price_above_median', 'IncomeBrackets'],\n",
      "      dtype='object')\n",
      "       MedInc  HouseAge  AveRooms  AveBedrms  Population  AveOccup  Latitude  \\\n",
      "0      2.1827      26.0  4.521429   0.921429       305.0  2.178571     40.05   \n",
      "1      3.0755      32.0  4.623068   0.983353      3868.0  4.599287     32.77   \n",
      "2      1.8235      40.0  4.701149   1.126437       928.0  3.555556     37.75   \n",
      "3      1.4625      37.0  4.247845   1.105603      1673.0  3.605603     33.99   \n",
      "4      1.9063      13.0  3.453125   0.984375       286.0  4.468750     33.97   \n",
      "...       ...       ...       ...        ...         ...       ...       ...   \n",
      "20629  4.3487      29.0  5.930712   1.026217      1554.0  2.910112     38.65   \n",
      "20630  5.6790      20.0  6.401274   1.070064       457.0  2.910828     38.56   \n",
      "20631  1.9327      10.0  5.789474   1.078947       898.0  3.938596     38.57   \n",
      "20632  3.7500      38.0  5.275229   0.981651       259.0  2.376147     38.72   \n",
      "20633  2.8542      37.0  5.253731   0.970149       238.0  3.552239     38.84   \n",
      "\n",
      "       Longitude  \n",
      "0        -122.10  \n",
      "1        -117.06  \n",
      "2        -122.16  \n",
      "3        -118.28  \n",
      "4        -118.16  \n",
      "...          ...  \n",
      "20629    -121.84  \n",
      "20630    -122.05  \n",
      "20631    -121.92  \n",
      "20632    -121.90  \n",
      "20633    -121.81  \n",
      "\n",
      "[20634 rows x 8 columns]\n"
     ]
    }
   ],
   "source": [
    "#Data Split\n",
    "print(data.columns)\n",
    "data.columns = data.columns.astype(str)  # Convert column names to strings\n",
    "X = data.drop(['IncomeBrackets', 'price_above_median'], axis=1)\n",
    "y = data['price_above_median']\n",
    "X_train, X_test, y_train, y_test = train_test_split(X, y, test_size=0.3, stratify=y, random_state=1)\n",
    "print(X)"
   ]
  },
  {
   "cell_type": "code",
   "execution_count": 12,
   "metadata": {
    "colab": {
     "base_uri": "https://localhost:8080/"
    },
    "id": "YZyxqsZO8VrB",
    "outputId": "faf606f4-de65-4dd7-fb3c-b387b3afdf55"
   },
   "outputs": [
    {
     "name": "stdout",
     "output_type": "stream",
     "text": [
      "Performance on TEST\n",
      "*******************\n",
      "              precision    recall  f1-score   support\n",
      "\n",
      "           0       0.56      0.81      0.66      3095\n",
      "           1       0.66      0.37      0.47      3096\n",
      "\n",
      "    accuracy                           0.59      6191\n",
      "   macro avg       0.61      0.59      0.57      6191\n",
      "weighted avg       0.61      0.59      0.57      6191\n",
      "\n",
      "Performance on TRAIN\n",
      "********************\n",
      "              precision    recall  f1-score   support\n",
      "\n",
      "           0       0.73      1.00      0.84      7222\n",
      "           1       1.00      0.62      0.77      7221\n",
      "\n",
      "    accuracy                           0.81     14443\n",
      "   macro avg       0.86      0.81      0.81     14443\n",
      "weighted avg       0.86      0.81      0.81     14443\n",
      "\n"
     ]
    }
   ],
   "source": [
    "from sklearn.metrics import classification_report\n",
    "\n",
    "#KNN\n",
    "knn = KNeighborsClassifier(n_neighbors=2)\n",
    "knn.fit(X_train, y_train)\n",
    "\n",
    "y_pred = knn.predict(X_test)\n",
    "\n",
    "# Checking the metrics on the test data\n",
    "# accuracy_test=accuracy_score(y_test, y_pred)\n",
    "# recall_test = recall_score(y_test, y_pred)\n",
    "# precision_test = precision_score(y_test, y_pred)\n",
    "# f1_test = f1_score(y_test, y_pred)\n",
    "# print(\"Testing\\nAccuracy: \", accuracy_test)\n",
    "# print(\"Recall: \", recall_test)\n",
    "# print(\"Precision: \", precision_test)\n",
    "# print(\"F1: \", f1_test)\n",
    "\n",
    "# # Checking metrics on the training data\n",
    "# accuracy_train=accuracy_score(y_train, knn.predict(X_train))\n",
    "# recall_train = recall_score(y_train, knn.predict(X_train))\n",
    "# precision_train = precision_score(y_train, knn.predict(X_train))\n",
    "# f1_train = f1_score(y_train, knn.predict(X_train))\n",
    "# print(\"Training\\nAccuracy: \", accuracy_train)\n",
    "# print(\"Recall: \", recall_train)\n",
    "# print(\"Precision: \", precision_train)\n",
    "# print(\"F1: \", f1_train)\n",
    "\n",
    "print(f\"Performance on TEST\\n*******************\\n{classification_report(y_test, knn.predict(X_test))}\")\n",
    "print(f\"Performance on TRAIN\\n********************\\n{classification_report(y_train, knn.predict(X_train))}\")"
   ]
  },
  {
   "cell_type": "code",
   "execution_count": 28,
   "metadata": {
    "colab": {
     "base_uri": "https://localhost:8080/",
     "height": 621
    },
    "id": "7oFkgcNRELcn",
    "outputId": "af9fc90f-1fab-48db-cae4-cb52644d9beb"
   },
   "outputs": [
    {
     "data": {
      "image/png": "[encoded data removed]",
      "text/plain": [
       "<Figure size 1000x700 with 2 Axes>"
      ]
     },
     "metadata": {},
     "output_type": "display_data"
    }
   ],
   "source": [
    "#Confusion Matrix\n",
    "from sklearn.metrics import confusion_matrix\n",
    "\n",
    "cm = confusion_matrix(y_test, knn.predict(X_test))\n",
    "#print(cm)\n",
    "\n",
    "plt.figure(figsize=(10,7))\n",
    "sns.heatmap(cm,annot=True,fmt='d')\n",
    "plt.xlabel('Predicted')\n",
    "plt.ylabel('Truth')\n",
    "plt.show()\n",
    "\n",
    "#biggest issue is false nulls as the model predicts 0 more than 1 for true 1s\n",
    "\n"
   ]
  },
  {
   "cell_type": "code",
   "execution_count": 30,
   "metadata": {},
   "outputs": [],
   "source": [
    "from sklearn.preprocessing import StandardScaler\n",
    "\n",
    "scaler = StandardScaler()\n",
    "X_train_scaled = scaler.fit_transform(X_train)\n",
    "X_test_scaled = scaler.transform(X_test) "
   ]
  },
  {
   "cell_type": "code",
   "execution_count": 31,
   "metadata": {},
   "outputs": [
    {
     "name": "stdout",
     "output_type": "stream",
     "text": [
      "Performance on TEST\n",
      "*******************\n",
      "              precision    recall  f1-score   support\n",
      "\n",
      "           0       0.74      0.91      0.82      3095\n",
      "           1       0.88      0.68      0.77      3096\n",
      "\n",
      "    accuracy                           0.79      6191\n",
      "   macro avg       0.81      0.79      0.79      6191\n",
      "weighted avg       0.81      0.79      0.79      6191\n",
      "\n",
      "Performance on TRAIN\n",
      "********************\n",
      "              precision    recall  f1-score   support\n",
      "\n",
      "           0       0.84      1.00      0.91      7222\n",
      "           1       1.00      0.80      0.89      7221\n",
      "\n",
      "    accuracy                           0.90     14443\n",
      "   macro avg       0.92      0.90      0.90     14443\n",
      "weighted avg       0.92      0.90      0.90     14443\n",
      "\n"
     ]
    }
   ],
   "source": [
    "from sklearn.metrics import classification_report\n",
    "\n",
    "#KNN\n",
    "knn = KNeighborsClassifier(n_neighbors=2)\n",
    "knn.fit(X_train_scaled, y_train)\n",
    "\n",
    "y_pred = knn.predict(X_test_scaled)\n",
    "\n",
    "print(f\"Performance on TEST\\n*******************\\n{classification_report(y_test, knn.predict(X_test_scaled))}\")\n",
    "print(f\"Performance on TRAIN\\n********************\\n{classification_report(y_train, knn.predict(X_train_scaled))}\")"
   ]
  },
  {
   "cell_type": "code",
   "execution_count": 32,
   "metadata": {},
   "outputs": [
    {
     "data": {
      "image/png": "[encoded data removed]",
      "text/plain": [
       "<Figure size 1000x700 with 2 Axes>"
      ]
     },
     "metadata": {},
     "output_type": "display_data"
    }
   ],
   "source": [
    "#Confusion Matrix\n",
    "from sklearn.metrics import confusion_matrix\n",
    "\n",
    "cm = confusion_matrix(y_test, knn.predict(X_test_scaled))\n",
    "#print(cm)\n",
    "\n",
    "plt.figure(figsize=(10,7))\n",
    "sns.heatmap(cm,annot=True,fmt='d')\n",
    "plt.xlabel('Predicted')\n",
    "plt.ylabel('Truth')\n",
    "plt.show()\n",
    "\n",
    "#large improvement primarily in the overwhelmingly problematic misclassification of true 1s\n",
    "\n"
   ]
  },
  {
   "cell_type": "code",
   "execution_count": 14,
   "metadata": {
    "colab": {
     "base_uri": "https://localhost:8080/"
    },
    "id": "3nxnPEjBBhIC",
    "outputId": "eea0c5d4-b907-4fb0-f4ea-8311f28fb336"
   },
   "outputs": [
    {
     "name": "stdout",
     "output_type": "stream",
     "text": [
      "Performance on TEST\n",
      "*******************\n",
      "              precision    recall  f1-score   support\n",
      "\n",
      "           0       0.84      0.83      0.83      3095\n",
      "           1       0.83      0.84      0.84      3096\n",
      "\n",
      "    accuracy                           0.83      6191\n",
      "   macro avg       0.83      0.83      0.83      6191\n",
      "weighted avg       0.83      0.83      0.83      6191\n",
      "\n",
      "Performance on TRAIN\n",
      "********************\n",
      "              precision    recall  f1-score   support\n",
      "\n",
      "           0       1.00      1.00      1.00      7222\n",
      "           1       1.00      1.00      1.00      7221\n",
      "\n",
      "    accuracy                           1.00     14443\n",
      "   macro avg       1.00      1.00      1.00     14443\n",
      "weighted avg       1.00      1.00      1.00     14443\n",
      "\n"
     ]
    }
   ],
   "source": [
    "#Decision Tree\n",
    "from sklearn.tree import DecisionTreeClassifier\n",
    "from sklearn.metrics import classification_report\n",
    "model = DecisionTreeClassifier(random_state=1).fit(X_train, y_train)\n",
    "\n",
    "\n",
    "print(f\"Performance on TEST\\n*******************\\n{classification_report(y_test, model.predict(X_test))}\")\n",
    "print(f\"Performance on TRAIN\\n********************\\n{classification_report(y_train, model.predict(X_train))}\")"
   ]
  },
  {
   "cell_type": "code",
   "execution_count": 15,
   "metadata": {
    "id": "f243WTfPS8va"
   },
   "outputs": [],
   "source": [
    "#from sklearn import tree\n",
    "#tree.plot_tree(model)"
   ]
  },
  {
   "cell_type": "code",
   "execution_count": 16,
   "metadata": {
    "colab": {
     "base_uri": "https://localhost:8080/",
     "height": 619
    },
    "id": "nGq1vsh9ENwo",
    "outputId": "c25f56a0-a412-4004-88d4-edd10d6a29fc"
   },
   "outputs": [
    {
     "data": {
      "image/png": "[encoded data removed]",
      "text/plain": [
       "<Figure size 1000x700 with 2 Axes>"
      ]
     },
     "metadata": {},
     "output_type": "display_data"
    }
   ],
   "source": [
    "#Confusion Matrix\n",
    "\n",
    "cm = confusion_matrix(y_test, model.predict(X_test))\n",
    "#print(cm)\n",
    "\n",
    "plt.figure(figsize=(10,7))\n",
    "sns.heatmap(cm,annot=True,fmt='d')\n",
    "plt.xlabel('Predicted')\n",
    "plt.ylabel('Truth')\n",
    "plt.show()\n"
   ]
  },
  {
   "cell_type": "code",
   "execution_count": 17,
   "metadata": {
    "colab": {
     "base_uri": "https://localhost:8080/",
     "height": 339
    },
    "id": "sKt6ftw5BhVT",
    "outputId": "be7e3000-14a8-4057-e35d-b5266e94a05f"
   },
   "outputs": [
    {
     "data": {
      "text/plain": [
       "{'class_weight': {0: 0.1, 1: 0.9},\n",
       " 'max_depth': 2,\n",
       " 'min_samples_leaf': 1,\n",
       " 'n_estimators': 10}"
      ]
     },
     "execution_count": 17,
     "metadata": {},
     "output_type": "execute_result"
    }
   ],
   "source": [
    "#Random Forest\n",
    "from sklearn.ensemble import RandomForestClassifier\n",
    "from sklearn.model_selection import GridSearchCV\n",
    "\n",
    "model = RandomForestClassifier()\n",
    "param_grid = {\n",
    "   \"n_estimators\": np.arange(start=10, stop=100, step=2),\n",
    "   \"max_depth\": np.arange(start=2, stop=20),\n",
    "   \"min_samples_leaf\": np.arange(start=1, stop=5),\n",
    "   \"class_weight\": [{0: 0.1, 1: 0.9}, {0: 0.2, 1: 0.8}, {0: 0.3, 1: 0.7}],\n",
    "}\n",
    "\n",
    "gscv = GridSearchCV(model, param_grid, cv=5, n_jobs=8, scoring=\"recall\", )\n",
    "gscv.fit(X_train, y_train)\n",
    "gscv.best_params_"
   ]
  },
  {
   "cell_type": "code",
   "execution_count": 20,
   "metadata": {},
   "outputs": [],
   "source": [
    "best_model = gscv.best_estimator_"
   ]
  },
  {
   "cell_type": "code",
   "execution_count": 21,
   "metadata": {
    "id": "zEqaVZtJV0o7"
   },
   "outputs": [
    {
     "name": "stdout",
     "output_type": "stream",
     "text": [
      "Performance on TEST\n",
      "*******************\n",
      "              precision    recall  f1-score   support\n",
      "\n",
      "           0       0.00      0.00      0.00      3095\n",
      "           1       0.50      1.00      0.67      3096\n",
      "\n",
      "    accuracy                           0.50      6191\n",
      "   macro avg       0.25      0.50      0.33      6191\n",
      "weighted avg       0.25      0.50      0.33      6191\n",
      "\n",
      "Performance on TRAIN\n",
      "********************\n",
      "              precision    recall  f1-score   support\n",
      "\n",
      "           0       1.00      0.00      0.00      7222\n",
      "           1       0.50      1.00      0.67      7221\n",
      "\n",
      "    accuracy                           0.50     14443\n",
      "   macro avg       0.75      0.50      0.33     14443\n",
      "weighted avg       0.75      0.50      0.33     14443\n",
      "\n"
     ]
    },
    {
     "name": "stderr",
     "output_type": "stream",
     "text": [
      "/usr/local/lib/python3.11/site-packages/sklearn/metrics/_classification.py:1471: UndefinedMetricWarning: Precision and F-score are ill-defined and being set to 0.0 in labels with no predicted samples. Use `zero_division` parameter to control this behavior.\n",
      "  _warn_prf(average, modifier, msg_start, len(result))\n",
      "/usr/local/lib/python3.11/site-packages/sklearn/metrics/_classification.py:1471: UndefinedMetricWarning: Precision and F-score are ill-defined and being set to 0.0 in labels with no predicted samples. Use `zero_division` parameter to control this behavior.\n",
      "  _warn_prf(average, modifier, msg_start, len(result))\n",
      "/usr/local/lib/python3.11/site-packages/sklearn/metrics/_classification.py:1471: UndefinedMetricWarning: Precision and F-score are ill-defined and being set to 0.0 in labels with no predicted samples. Use `zero_division` parameter to control this behavior.\n",
      "  _warn_prf(average, modifier, msg_start, len(result))\n"
     ]
    }
   ],
   "source": [
    "from sklearn.metrics import classification_report\n",
    "print(f\"Performance on TEST\\n*******************\\n{classification_report(y_test, best_model.predict(X_test))}\")\n",
    "print(f\"Performance on TRAIN\\n********************\\n{classification_report(y_train, best_model.predict(X_train))}\")\n"
   ]
  },
  {
   "cell_type": "code",
   "execution_count": 23,
   "metadata": {
    "id": "Zr3PzsSLEQGS"
   },
   "outputs": [
    {
     "data": {
      "image/png": "[encoded data removed]",
      "text/plain": [
       "<Figure size 1000x700 with 2 Axes>"
      ]
     },
     "metadata": {},
     "output_type": "display_data"
    }
   ],
   "source": [
    "#Confusion Matrix\n",
    "\n",
    "cm = confusion_matrix(y_test, best_model.predict(X_test))\n",
    "#print(cm)\n",
    "\n",
    "plt.figure(figsize=(10,7))\n",
    "sns.heatmap(cm,annot=True,fmt='d')\n",
    "plt.xlabel('Predicted')\n",
    "plt.ylabel('Truth')\n",
    "plt.show()"
   ]
  },
  {
   "cell_type": "code",
   "execution_count": 33,
   "metadata": {},
   "outputs": [
    {
     "name": "stdout",
     "output_type": "stream",
     "text": [
      "{'class_weight': 'balanced', 'max_depth': 13, 'min_samples_leaf': 4, 'n_estimators': 110}\n"
     ]
    }
   ],
   "source": [
    "import numpy as np\n",
    "from sklearn.ensemble import RandomForestClassifier\n",
    "from sklearn.model_selection import GridSearchCV\n",
    "\n",
    "model = RandomForestClassifier(random_state=42)\n",
    "\n",
    "# Adjusted hyperparameter grid\n",
    "param_grid = {\n",
    "    \"n_estimators\": np.arange(start=50, stop=150, step=10),  # Reduced range\n",
    "    \"max_depth\": np.arange(start=5, stop=15, step=2),  # Focus depths\n",
    "    \"min_samples_leaf\": np.arange(2, 6),  \n",
    "    \"class_weight\": [\"balanced\", {0: 0.2, 1: 0.8}],  # Ibalanced option\n",
    "}\n",
    "\n",
    "gscv = GridSearchCV(model, param_grid, cv=5, n_jobs=-1, scoring=\"f1\") #better scoring metric\n",
    "\n",
    "gscv.fit(X_train, y_train)\n",
    "\n",
    "print(gscv.best_params_)"
   ]
  },
  {
   "cell_type": "code",
   "execution_count": 34,
   "metadata": {},
   "outputs": [],
   "source": [
    "best_model = gscv.best_estimator_"
   ]
  },
  {
   "cell_type": "code",
   "execution_count": 35,
   "metadata": {},
   "outputs": [
    {
     "name": "stdout",
     "output_type": "stream",
     "text": [
      "Performance on TEST\n",
      "*******************\n",
      "              precision    recall  f1-score   support\n",
      "\n",
      "           0       0.89      0.88      0.89      3095\n",
      "           1       0.88      0.89      0.89      3096\n",
      "\n",
      "    accuracy                           0.89      6191\n",
      "   macro avg       0.89      0.89      0.89      6191\n",
      "weighted avg       0.89      0.89      0.89      6191\n",
      "\n",
      "Performance on TRAIN\n",
      "********************\n",
      "              precision    recall  f1-score   support\n",
      "\n",
      "           0       0.94      0.95      0.94      7222\n",
      "           1       0.95      0.94      0.94      7221\n",
      "\n",
      "    accuracy                           0.94     14443\n",
      "   macro avg       0.94      0.94      0.94     14443\n",
      "weighted avg       0.94      0.94      0.94     14443\n",
      "\n"
     ]
    }
   ],
   "source": [
    "from sklearn.metrics import classification_report\n",
    "print(f\"Performance on TEST\\n*******************\\n{classification_report(y_test, best_model.predict(X_test))}\")\n",
    "print(f\"Performance on TRAIN\\n********************\\n{classification_report(y_train, best_model.predict(X_train))}\")"
   ]
  },
  {
   "cell_type": "code",
   "execution_count": 36,
   "metadata": {},
   "outputs": [
    {
     "data": {
      "image/png": "[encoded data removed]",
      "text/plain": [
       "<Figure size 1000x700 with 2 Axes>"
      ]
     },
     "metadata": {},
     "output_type": "display_data"
    }
   ],
   "source": [
    "#Confusion Matrix\n",
    "\n",
    "cm = confusion_matrix(y_test, best_model.predict(X_test))\n",
    "#print(cm)\n",
    "\n",
    "plt.figure(figsize=(10,7))\n",
    "sns.heatmap(cm,annot=True,fmt='d')\n",
    "plt.xlabel('Predicted')\n",
    "plt.ylabel('Truth')\n",
    "plt.show()"
   ]
  },
  {
   "cell_type": "code",
   "execution_count": 24,
   "metadata": {
    "id": "6ZNztXaYWmpU"
   },
   "outputs": [
    {
     "name": "stdout",
     "output_type": "stream",
     "text": [
      "Performance on TEST\n",
      "*******************\n",
      "              precision    recall  f1-score   support\n",
      "\n",
      "           0       0.88      0.87      0.88      3095\n",
      "           1       0.87      0.88      0.88      3096\n",
      "\n",
      "    accuracy                           0.88      6191\n",
      "   macro avg       0.88      0.88      0.88      6191\n",
      "weighted avg       0.88      0.88      0.88      6191\n",
      "\n",
      "Performance on TRAIN\n",
      "********************\n",
      "              precision    recall  f1-score   support\n",
      "\n",
      "           0       0.89      0.89      0.89      7222\n",
      "           1       0.89      0.89      0.89      7221\n",
      "\n",
      "    accuracy                           0.89     14443\n",
      "   macro avg       0.89      0.89      0.89     14443\n",
      "weighted avg       0.89      0.89      0.89     14443\n",
      "\n"
     ]
    }
   ],
   "source": [
    "#AdaBoost\n",
    "from sklearn.ensemble import AdaBoostClassifier\n",
    "from sklearn.tree import DecisionTreeClassifier\n",
    "from sklearn.model_selection import GridSearchCV\n",
    "\n",
    "decision_tree_stump = DecisionTreeClassifier(max_depth=1)\n",
    "\n",
    "param_grid = {\n",
    "   'learning_rate': [0.1, 0.5, 1.0],\n",
    "   'n_estimators': [50, 100, 200]\n",
    "}\n",
    "\n",
    "abc = AdaBoostClassifier(estimator=decision_tree_stump, random_state=42)\n",
    "grid_search = GridSearchCV(abc, param_grid, cv=3, n_jobs=8)\n",
    "grid_search.fit(X_train, y_train)\n",
    "\n",
    "test_report = classification_report(y_test, grid_search.predict(X_test))\n",
    "train_report = classification_report(y_train, grid_search.predict(X_train))\n",
    "print(f\"Performance on TEST\\n*******************\\n{test_report}\")\n",
    "print(f\"Performance on TRAIN\\n********************\\n{train_report}\")"
   ]
  },
  {
   "cell_type": "code",
   "execution_count": 26,
   "metadata": {
    "id": "gSLE89WxEScK"
   },
   "outputs": [
    {
     "data": {
      "image/png": "[encoded data removed]",
      "text/plain": [
       "<Figure size 1000x700 with 2 Axes>"
      ]
     },
     "metadata": {},
     "output_type": "display_data"
    }
   ],
   "source": [
    "#Confusion Matrix\n",
    "\n",
    "cm = confusion_matrix(y_test, grid_search.predict(X_test))\n",
    "#print(cm)\n",
    "\n",
    "plt.figure(figsize=(10,7))\n",
    "sns.heatmap(cm,annot=True,fmt='d')\n",
    "plt.xlabel('Predicted')\n",
    "plt.ylabel('Truth')\n",
    "plt.show()\n",
    "\n",
    "#biggest issue misclassifies true ones more than it actually predicts them correctly"
   ]
  }
 ],
 "metadata": {
  "colab": {
   "provenance": []
  },
  "kernelspec": {
   "display_name": "Python 3 (ipykernel)",
   "language": "python",
   "name": "python3"
  },
  "language_info": {
   "codemirror_mode": {
    "name": "ipython",
    "version": 3
   },
   "file_extension": ".py",
   "mimetype": "text/x-python",
   "name": "python",
   "nbconvert_exporter": "python",
   "pygments_lexer": "ipython3",
   "version": "3.11.1"
  }
 },
 "nbformat": 4,
 "nbformat_minor": 4
}
